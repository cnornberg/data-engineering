{
  "nbformat": 4,
  "nbformat_minor": 5,
  "metadata": {
    "kernelspec": {
      "display_name": "Python 3",
      "language": "python",
      "name": "python3"
    },
    "language_info": {
      "codemirror_mode": {
        "name": "ipython",
        "version": 3
      },
      "file_extension": ".py",
      "mimetype": "text/x-python",
      "name": "python",
      "nbconvert_exporter": "python",
      "pygments_lexer": "ipython3",
      "version": "3.9.1"
    },
    "colab": {
      "name": "WebScrap_OLX.ipynb",
      "provenance": []
    }
  },
  "cells": [
    {
      "cell_type": "markdown",
      "metadata": {
        "id": "6618a036"
      },
      "source": [
        "# Webscraping utilizando BeautifulSoup e Selenium\n",
        "# Busca de produtos OLX\n",
        "\n",
        "\n"
      ],
      "id": "6618a036"
    },
    {
      "cell_type": "code",
      "metadata": {
        "id": "73a0ee1f"
      },
      "source": [
        "# !pip install bs4\n",
        "\n",
        "import pandas as pd\n",
        "import numpy as np\n",
        "import requests\n",
        "from bs4 import BeautifulSoup\n",
        "import re\n",
        "import time\n",
        "\n",
        "#selenium\n",
        "#!pip install selenium\n",
        "from selenium import webdriver\n",
        "from selenium.webdriver.common.keys import Keys\n",
        "from selenium.webdriver.common.by import By\n",
        "import time"
      ],
      "id": "73a0ee1f",
      "execution_count": 3,
      "outputs": []
    },
    {
      "cell_type": "code",
      "metadata": {
        "id": "309ac0df",
        "outputId": "5358b83e-c80f-4bb5-ae5f-6f7c6e775e87"
      },
      "source": [
        "#pg1: https://sp.olx.com.br/regiao-de-bauru-e-marilia?ot=1&q=honda\n",
        "#pg2: https://sp.olx.com.br/regiao-de-bauru-e-marilia?ot=1&o=2&q=honda\n",
        "# trocar pagina = &o=2\n",
        "\n",
        "# Last page: <a href=\"https://sp.olx.com.br/regiao-de-bauru-e-marilia?ot=1&amp;o=12&amp;q=honda\" data-lurker-detail=\"last_page\" class=\"sc-1bofr6e-0 iRQkdN\"><span class=\"sc-1bofr6e-1 iUNkan sc-ifAKCX bBbnjQ\" color=\"dark\" font-weight=\"400\">Última pagina</span></a>\n",
        "\n",
        "# numero de paginas o=12\n",
        "# data-lurker-detail=\"last_page\" \n",
        "# class=\"sc-1bofr6e-0 iRQkdN\">\n",
        "# \n"
      ],
      "id": "309ac0df",
      "execution_count": null,
      "outputs": [
        {
          "output_type": "stream",
          "text": [
            "Collecting bs4\n",
            "  Downloading bs4-0.0.1.tar.gz (1.1 kB)\n",
            "Collecting beautifulsoup4\n",
            "  Downloading beautifulsoup4-4.9.3-py3-none-any.whl (115 kB)\n",
            "\u001b[K     |████████████████████████████████| 115 kB 2.9 MB/s eta 0:00:01\n",
            "\u001b[?25hCollecting soupsieve>1.2\n",
            "  Downloading soupsieve-2.2.1-py3-none-any.whl (33 kB)\n",
            "Building wheels for collected packages: bs4\n",
            "  Building wheel for bs4 (setup.py) ... \u001b[?25ldone\n",
            "\u001b[?25h  Created wheel for bs4: filename=bs4-0.0.1-py3-none-any.whl size=1273 sha256=56b9db4c7aad64f32f9b7be46b87a1fbd14cf5cc55277a8da6c755e3f2f3f628\n",
            "  Stored in directory: /home/cristian/.cache/pip/wheels/73/2b/cb/099980278a0c9a3e57ff1a89875ec07bfa0b6fcbebb9a8cad3\n",
            "Successfully built bs4\n",
            "Installing collected packages: soupsieve, beautifulsoup4, bs4\n",
            "Successfully installed beautifulsoup4-4.9.3 bs4-0.0.1 soupsieve-2.2.1\n"
          ],
          "name": "stdout"
        }
      ]
    },
    {
      "cell_type": "markdown",
      "metadata": {
        "id": "e8430c20"
      },
      "source": [
        "# Webscraping do site OLX - Busca de produtos\n"
      ],
      "id": "e8430c20"
    },
    {
      "cell_type": "code",
      "metadata": {
        "id": "029ed4d8"
      },
      "source": [
        "# Buscar:\n",
        "# Link da busca do produto\n",
        "url = \"https://sp.olx.com.br/regiao-de-bauru-e-marilia?ot=1&q=honda\"\n",
        "\n",
        "# Necessário passar alguns parametros  para que o request não seja bloqueado pelo site.\n",
        "PARAMS = {\n",
        "    #definicoes do header do site\n",
        "    \"autority\": \"sp.olx.com.br\",\n",
        "    \"method\": \"GET\",\n",
        "    \"path\": \"/regiao-de-bauru-e-marilia\",\n",
        "    \"scheme\": \"https\",\n",
        "    \"referrer\": \"https://sp.olx.com.br/\",\n",
        "    \"sec-fetch-mode\": \"navigate\",\n",
        "    \"sec-fecth-site\": \"same-origin\",\n",
        "    \"sec-fech-user\": \"?1\",\n",
        "    \"upgrade-insecure-requests\": \"1\",\n",
        "    \"user-agent\": \"Mozilla/5.0\"\n",
        "}\n",
        "\n",
        "# Ler o conteudo da pagina e salvar numa variavel\n",
        "pages = requests.get(url = url, headers = PARAMS)\n",
        "\n",
        "# Converter o conteudo da pagina no formato lxml, que possibilita buscar partes da pagina utilizando tags, classes, etc.\n",
        "conteudo = BeautifulSoup(pages.content, \"lxml\")\n",
        "\n",
        "#results = conteudo.find_all(\"li\", {\"class\" : \"nome_classe\"}) # resultado da busca - uma lista \n",
        "\n",
        "#for a in results: # percorrer todos os resultados da busca\n",
        "#    try:\n",
        "#        a.find_all(\"h2\")[0].contents[0]) # retorna o titulo do anuncio\n",
        "#        a.find_all(\"p\", {\"class\" : \"nome_classe\"})[0].contents[0] # retorna a informação de um objeto/classe\n",
        "#    except:\n",
        "#        print(erro)\n",
        "\n",
        "#print(conteudo)\n"
      ],
      "id": "029ed4d8",
      "execution_count": 4,
      "outputs": []
    },
    {
      "cell_type": "code",
      "metadata": {
        "colab": {
          "base_uri": "https://localhost:8080/"
        },
        "id": "d528e511",
        "outputId": "4a4c452c-8c65-49d8-b5e7-6524f6f9a2ec"
      },
      "source": [
        "print(pages)"
      ],
      "id": "d528e511",
      "execution_count": 5,
      "outputs": [
        {
          "output_type": "stream",
          "text": [
            "<Response [200]>\n"
          ],
          "name": "stdout"
        }
      ]
    },
    {
      "cell_type": "code",
      "metadata": {
        "id": "606d83b4",
        "outputId": "eedd1d49-4f02-422b-d069-c0b35c6d0d3e"
      },
      "source": [
        "#print(conteudo.find_all(\"div\", {\"class\":\"fnmrjs-9 gqfQzY\"}))\n",
        "\n",
        "#print(len(conteudo.find_all(\"h2\")))"
      ],
      "id": "606d83b4",
      "execution_count": null,
      "outputs": [
        {
          "output_type": "stream",
          "text": [
            "100\n"
          ],
          "name": "stdout"
        }
      ]
    },
    {
      "cell_type": "markdown",
      "metadata": {
        "id": "8bbd2404"
      },
      "source": [
        "Este exemplo está retornando apenas os resultados da primeira página da busca.\n",
        "\n",
        "\n",
        "Para obter o resultado das outras páginas é necessario utilizar um loop, adicionando ao link da busca &o=2 (numero da pagina)."
      ],
      "id": "8bbd2404"
    },
    {
      "cell_type": "code",
      "metadata": {
        "colab": {
          "base_uri": "https://localhost:8080/"
        },
        "id": "46f414f6",
        "outputId": "214affbc-c1a8-424b-8830-0bb9ee517956"
      },
      "source": [
        "# Busca na página por uma lista, que nesse exmplo são os produtos anunciados e salva numa variavel itens\n",
        "# Para obter as tags como \"li\" e a \"class\" utilizamos o inspect do site\n",
        "itens = conteudo.find_all(\"li\", {\"class\" : \"sc-1fcmfeb-2 juiJqh\"})\n",
        "\n",
        "\n",
        "# Passar pela lista dos itens para obter detalhes dos anuncios\n",
        "for a in itens:\n",
        "    try:\n",
        "        nomeItem = a.find_all(\"h2\")[0].contents[0] \n",
        "        linkItem = a.find(\"a\")[\"href\"]\n",
        "        precoItem = a.find_all(\"span\", {\"class\" : \"sc-ifAKCX eoKYee\"})[0].contents[0]\n",
        "        precoItem = (precoItem.split()[1])\n",
        "        precoItem = float(precoItem.replace(\".\", \"\"))\n",
        "        precoOferta = precoItem * 0.8\n",
        "        # <span color=\"dark\" class=\"wlwg1t-1 fsgKJO sc-ifAKCX eLPYJb\" font-weight=\"400\">Hoje</span>\n",
        "        data = a.find_all(\"span\", {\"class\" : \"wlwg1t-1 fsgKJO sc-ifAKCX eLPYJb\"})\n",
        "        dataItem = data[0].contents[0]\n",
        "        horaItem = data[1].contents[0]\n",
        "        horaItem = dataItem[1]\n",
        "        #<span color=\"dark\" class=\"wlwg1t-1 fsgKJO sc-ifAKCX eLPYJb\" font-weight=\"400\">16:31</span>\n",
        "        horaItem = a.find_all(\"span\", {\"class\" : \"wlwg1t-1 fsgKJO sc-ifAKCX eLPYJb\"})\n",
        "        print(\"Link: \", linkItem)\n",
        "        print(\"Preço: \",precoItem)\n",
        "        print(\"Oferta: \", precoOferta)\n",
        "        print(\"------\")\n",
        "        print(nomeItem, precoItem)\n",
        "        if dataItem == \"Hoje\":\n",
        "            print(dataItem, horaItem)\n",
        "                                       \n",
        "        \n",
        "\n",
        "    except:\n",
        "        print(\"\")\n",
        "\n",
        "\n",
        "        \n",
        "        \n",
        "#print(linkItem)\n",
        "\n"
      ],
      "id": "46f414f6",
      "execution_count": 8,
      "outputs": [
        {
          "output_type": "stream",
          "text": [
            "Link:  https://sp.olx.com.br/regiao-de-bauru-e-marilia/ciclismo/skate-hondar-904571455\n",
            "Preço:  1.0\n",
            "Oferta:  0.8\n",
            "------\n",
            "Skate Hondar 1.0\n",
            "\n",
            "\n",
            "Link:  https://sp.olx.com.br/regiao-de-bauru-e-marilia/autos-e-pecas/carros-vans-e-utilitarios/honda-civic-904458664\n",
            "Preço:  20000.0\n",
            "Oferta:  16000.0\n",
            "------\n",
            "Honda Civic. 20000.0\n",
            "Link:  https://sp.olx.com.br/regiao-de-bauru-e-marilia/autos-e-pecas/carros-vans-e-utilitarios/honda-civic-904723723\n",
            "Preço:  36500.0\n",
            "Oferta:  29200.0\n",
            "------\n",
            "Honda Civic  36500.0\n",
            "Hoje [<span class=\"wlwg1t-1 fsgKJO sc-ifAKCX eLPYJb\" color=\"dark\" font-weight=\"400\">Hoje</span>, <span class=\"wlwg1t-1 fsgKJO sc-ifAKCX eLPYJb\" color=\"dark\" font-weight=\"400\">11:40</span>]\n",
            "Link:  https://sp.olx.com.br/regiao-de-bauru-e-marilia/autos-e-pecas/motos/honda-150-904363143\n",
            "Preço:  7000.0\n",
            "Oferta:  5600.0\n",
            "------\n",
            "Honda 150  7000.0\n",
            "\n",
            "Link:  https://sp.olx.com.br/regiao-de-bauru-e-marilia/autos-e-pecas/pecas-e-acessorios/motos/escapamento-honda-904139228\n",
            "Preço:  150.0\n",
            "Oferta:  120.0\n",
            "------\n",
            "Escapamento Honda 150.0\n",
            "Link:  https://sp.olx.com.br/regiao-de-bauru-e-marilia/autos-e-pecas/pecas-e-acessorios/motos/escapamento-honda-904124873\n",
            "Preço:  170.0\n",
            "Oferta:  136.0\n",
            "------\n",
            "Escapamento honda 170.0\n",
            "Link:  https://sp.olx.com.br/regiao-de-bauru-e-marilia/audio-tv-video-e-fotografia/radio-honda-civic-904836698\n",
            "Preço:  250.0\n",
            "Oferta:  200.0\n",
            "------\n",
            "RÁDIO HONDA CIVIC  250.0\n",
            "Hoje [<span class=\"wlwg1t-1 fsgKJO sc-ifAKCX eLPYJb\" color=\"dark\" font-weight=\"400\">Hoje</span>, <span class=\"wlwg1t-1 fsgKJO sc-ifAKCX eLPYJb\" color=\"dark\" font-weight=\"400\">15:01</span>]\n",
            "Link:  https://sp.olx.com.br/regiao-de-bauru-e-marilia/autos-e-pecas/motos/honda-bros-150-904916905\n",
            "Preço:  6500.0\n",
            "Oferta:  5200.0\n",
            "------\n",
            "Honda Bros 150 6500.0\n",
            "Hoje [<span class=\"wlwg1t-1 fsgKJO sc-ifAKCX eLPYJb\" color=\"dark\" font-weight=\"400\">Hoje</span>, <span class=\"wlwg1t-1 fsgKJO sc-ifAKCX eLPYJb\" color=\"dark\" font-weight=\"400\">17:35</span>]\n",
            "Link:  https://sp.olx.com.br/regiao-de-bauru-e-marilia/autos-e-pecas/motos/honda-biz-2014-904793488\n",
            "Preço:  9500.0\n",
            "Oferta:  7600.0\n",
            "------\n",
            "Honda Biz 2014 9500.0\n",
            "Hoje [<span class=\"wlwg1t-1 fsgKJO sc-ifAKCX eLPYJb\" color=\"dark\" font-weight=\"400\">Hoje</span>, <span class=\"wlwg1t-1 fsgKJO sc-ifAKCX eLPYJb\" color=\"dark\" font-weight=\"400\">13:54</span>]\n",
            "Link:  https://sp.olx.com.br/regiao-de-bauru-e-marilia/autos-e-pecas/carros-vans-e-utilitarios/honda-fit-2016-888341897\n",
            "Preço:  63000.0\n",
            "Oferta:  50400.0\n",
            "------\n",
            "Honda Fit 2016  63000.0\n",
            "Hoje [<span class=\"wlwg1t-1 fsgKJO sc-ifAKCX eLPYJb\" color=\"dark\" font-weight=\"400\">Hoje</span>, <span class=\"wlwg1t-1 fsgKJO sc-ifAKCX eLPYJb\" color=\"dark\" font-weight=\"400\">10:35</span>]\n",
            "Link:  https://sp.olx.com.br/regiao-de-bauru-e-marilia/autos-e-pecas/motos/motocicleta-honda-903006773\n",
            "Preço:  15400.0\n",
            "Oferta:  12320.0\n",
            "------\n",
            "Motocicleta Honda  15400.0\n",
            "Link:  https://sp.olx.com.br/regiao-de-bauru-e-marilia/autos-e-pecas/motos/honda-nx200-2001-904107733\n",
            "Preço:  6000.0\n",
            "Oferta:  4800.0\n",
            "------\n",
            "Honda nx200 2001 6000.0\n",
            "Link:  https://sp.olx.com.br/regiao-de-bauru-e-marilia/autos-e-pecas/carros-vans-e-utilitarios/honda-city-2018-903805751\n",
            "Preço:  70000.0\n",
            "Oferta:  56000.0\n",
            "------\n",
            "Honda City 2018 70000.0\n",
            "Link:  https://sp.olx.com.br/regiao-de-bauru-e-marilia/autos-e-pecas/carros-vans-e-utilitarios/honda-city-890024879\n",
            "Preço:  65500.0\n",
            "Oferta:  52400.0\n",
            "------\n",
            "Honda city 65500.0\n",
            "Link:  https://sp.olx.com.br/regiao-de-bauru-e-marilia/autos-e-pecas/motos/honda-125-ml-903434972\n",
            "Preço:  6000.0\n",
            "Oferta:  4800.0\n",
            "------\n",
            "Honda 125 ML 6000.0\n",
            "Link:  https://sp.olx.com.br/regiao-de-bauru-e-marilia/autos-e-pecas/motos/moto-honda-902716026\n",
            "Preço:  6000.0\n",
            "Oferta:  4800.0\n",
            "------\n",
            "Moto Honda  6000.0\n",
            "Link:  https://sp.olx.com.br/regiao-de-bauru-e-marilia/autos-e-pecas/motos/honda-falcon-400-903552430\n",
            "Preço:  13000.0\n",
            "Oferta:  10400.0\n",
            "------\n",
            "Honda Falcon 400 13000.0\n",
            "Link:  https://sp.olx.com.br/regiao-de-bauru-e-marilia/autos-e-pecas/motos/honda-twister-250cc-884526403\n",
            "Preço:  8500.0\n",
            "Oferta:  6800.0\n",
            "------\n",
            "Honda/twister 250cc 8500.0\n",
            "Link:  https://sp.olx.com.br/regiao-de-bauru-e-marilia/autos-e-pecas/motos/honda-xre-rally-2019-904964549\n",
            "Preço:  23000.0\n",
            "Oferta:  18400.0\n",
            "------\n",
            "Honda XRE RALLY 2019 23000.0\n",
            "Hoje [<span class=\"wlwg1t-1 fsgKJO sc-ifAKCX eLPYJb\" color=\"dark\" font-weight=\"400\">Hoje</span>, <span class=\"wlwg1t-1 fsgKJO sc-ifAKCX eLPYJb\" color=\"dark\" font-weight=\"400\">19:16</span>]\n",
            "Link:  https://sp.olx.com.br/regiao-de-bauru-e-marilia/autos-e-pecas/motos/honda-biz-2002-100cc-904946168\n",
            "Preço:  4300.0\n",
            "Oferta:  3440.0\n",
            "------\n",
            "Honda biz 2002 100cc 4300.0\n",
            "Hoje [<span class=\"wlwg1t-1 fsgKJO sc-ifAKCX eLPYJb\" color=\"dark\" font-weight=\"400\">Hoje</span>, <span class=\"wlwg1t-1 fsgKJO sc-ifAKCX eLPYJb\" color=\"dark\" font-weight=\"400\">18:42</span>]\n",
            "Link:  https://sp.olx.com.br/regiao-de-bauru-e-marilia/autos-e-pecas/motos/honda-biz-2002-100cc-904944927\n",
            "Preço:  4300.0\n",
            "Oferta:  3440.0\n",
            "------\n",
            "Honda biz 2002 100cc 4300.0\n",
            "Hoje [<span class=\"wlwg1t-1 fsgKJO sc-ifAKCX eLPYJb\" color=\"dark\" font-weight=\"400\">Hoje</span>, <span class=\"wlwg1t-1 fsgKJO sc-ifAKCX eLPYJb\" color=\"dark\" font-weight=\"400\">18:38</span>]\n",
            "\n",
            "Link:  https://sp.olx.com.br/regiao-de-bauru-e-marilia/autos-e-pecas/motos/moto-vfr-1200cc-da-honda-904897033\n",
            "Preço:  0.0\n",
            "Oferta:  0.0\n",
            "------\n",
            "moto vfr 1200cc da honda 0.0\n",
            "Hoje [<span class=\"wlwg1t-1 fsgKJO sc-ifAKCX eLPYJb\" color=\"dark\" font-weight=\"400\">Hoje</span>, <span class=\"wlwg1t-1 fsgKJO sc-ifAKCX eLPYJb\" color=\"dark\" font-weight=\"400\">17:00</span>]\n",
            "Link:  https://sp.olx.com.br/regiao-de-bauru-e-marilia/autos-e-pecas/carros-vans-e-utilitarios/honda-fit-exl-903280019\n",
            "Preço:  62380.0\n",
            "Oferta:  49904.0\n",
            "------\n",
            "Honda Fit Exl 62380.0\n",
            "Link:  https://sp.olx.com.br/regiao-de-bauru-e-marilia/autos-e-pecas/carros-vans-e-utilitarios/honda-civic-902473972\n",
            "Preço:  35900.0\n",
            "Oferta:  28720.0\n",
            "------\n",
            "Honda civic 35900.0\n",
            "Link:  https://sp.olx.com.br/regiao-de-bauru-e-marilia/autos-e-pecas/motos/honda-pop-110i-2016-897861041\n",
            "Preço:  7500.0\n",
            "Oferta:  6000.0\n",
            "------\n",
            "Honda Pop 110i 2016  7500.0\n",
            "Link:  https://sp.olx.com.br/regiao-de-bauru-e-marilia/autos-e-pecas/motos/honda-biz-rosa-903158898\n",
            "Preço:  10100.0\n",
            "Oferta:  8080.0\n",
            "------\n",
            "Honda Biz rosa 10100.0\n",
            "Link:  https://sp.olx.com.br/regiao-de-bauru-e-marilia/autos-e-pecas/motos/honda-fan-160cc-2016-885553233\n",
            "Preço:  11900.0\n",
            "Oferta:  9520.0\n",
            "------\n",
            "Honda/Fan 160cc 2016 11900.0\n",
            "Link:  https://sp.olx.com.br/regiao-de-bauru-e-marilia/autos-e-pecas/motos/honda-titan-150-sport-904432589\n",
            "Preço:  8500.0\n",
            "Oferta:  6800.0\n",
            "------\n",
            "Honda titan 150 Sport  8500.0\n",
            "Link:  https://sp.olx.com.br/regiao-de-bauru-e-marilia/autos-e-pecas/motos/honda-nxr-160-bros-904750994\n",
            "Preço:  5500.0\n",
            "Oferta:  4400.0\n",
            "------\n",
            "Honda NXR 160 BROS 5500.0\n",
            "Hoje [<span class=\"wlwg1t-1 fsgKJO sc-ifAKCX eLPYJb\" color=\"dark\" font-weight=\"400\">Hoje</span>, <span class=\"wlwg1t-1 fsgKJO sc-ifAKCX eLPYJb\" color=\"dark\" font-weight=\"400\">12:25</span>]\n",
            "Link:  https://sp.olx.com.br/regiao-de-bauru-e-marilia/autos-e-pecas/motos/honda-biz-100-2004-904914272\n",
            "Preço:  4500.0\n",
            "Oferta:  3600.0\n",
            "------\n",
            "HONDA BIZ 100 2004 4500.0\n",
            "Hoje [<span class=\"wlwg1t-1 fsgKJO sc-ifAKCX eLPYJb\" color=\"dark\" font-weight=\"400\">Hoje</span>, <span class=\"wlwg1t-1 fsgKJO sc-ifAKCX eLPYJb\" color=\"dark\" font-weight=\"400\">17:30</span>]\n",
            "Link:  https://sp.olx.com.br/regiao-de-bauru-e-marilia/autos-e-pecas/motos/honda-pcx-dlx-2021-904772708\n",
            "Preço:  18000.0\n",
            "Oferta:  14400.0\n",
            "------\n",
            "Honda Pcx/DLX 2021 18000.0\n",
            "Hoje [<span class=\"wlwg1t-1 fsgKJO sc-ifAKCX eLPYJb\" color=\"dark\" font-weight=\"400\">Hoje</span>, <span class=\"wlwg1t-1 fsgKJO sc-ifAKCX eLPYJb\" color=\"dark\" font-weight=\"400\">13:03</span>]\n",
            "\n",
            "Link:  https://sp.olx.com.br/regiao-de-bauru-e-marilia/autos-e-pecas/motos/honda-cb500-2003-2003-902927488\n",
            "Preço:  13000.0\n",
            "Oferta:  10400.0\n",
            "------\n",
            "Honda Cb500 2003/2003 13000.0\n",
            "Hoje [<span class=\"wlwg1t-1 fsgKJO sc-ifAKCX eLPYJb\" color=\"dark\" font-weight=\"400\">Hoje</span>, <span class=\"wlwg1t-1 fsgKJO sc-ifAKCX eLPYJb\" color=\"dark\" font-weight=\"400\">09:19</span>]\n",
            "Link:  https://sp.olx.com.br/regiao-de-bauru-e-marilia/autos-e-pecas/carros-vans-e-utilitarios/honda-civic-sport-cvt-904283654\n",
            "Preço:  96500.0\n",
            "Oferta:  77200.0\n",
            "------\n",
            "Honda civic sport cvt 96500.0\n",
            "Link:  https://sp.olx.com.br/regiao-de-bauru-e-marilia/autos-e-pecas/carros-vans-e-utilitarios/honda-civic-lxs-903145417\n",
            "Preço:  55000.0\n",
            "Oferta:  44000.0\n",
            "------\n",
            "Honda Civic Lxs 55000.0\n",
            "Link:  https://sp.olx.com.br/regiao-de-bauru-e-marilia/autos-e-pecas/carros-vans-e-utilitarios/honda-fit-2005-manual-904524895\n",
            "Preço:  18500.0\n",
            "Oferta:  14800.0\n",
            "------\n",
            "Honda Fit 2005 manual  18500.0\n",
            "Link:  https://sp.olx.com.br/regiao-de-bauru-e-marilia/autos-e-pecas/motos/honda-pcx-150-898026682\n",
            "Preço:  16900.0\n",
            "Oferta:  13520.0\n",
            "------\n",
            "HONDA/ PCX-150 16900.0\n",
            "Link:  https://sp.olx.com.br/regiao-de-bauru-e-marilia/autos-e-pecas/motos/vendo-honda-biz-es-904306369\n",
            "Preço:  6900.0\n",
            "Oferta:  5520.0\n",
            "------\n",
            "Vendo Honda biz ES 6900.0\n",
            "Link:  https://sp.olx.com.br/regiao-de-bauru-e-marilia/autos-e-pecas/motos/honda-biz-125-903006672\n",
            "Preço:  9500.0\n",
            "Oferta:  7600.0\n",
            "------\n",
            "Honda biz 125 9500.0\n",
            "Link:  https://sp.olx.com.br/regiao-de-bauru-e-marilia/autos-e-pecas/motos/honda-biz-2014-902995980\n",
            "Preço:  9500.0\n",
            "Oferta:  7600.0\n",
            "------\n",
            "Honda biz 2014 9500.0\n",
            "Link:  https://sp.olx.com.br/regiao-de-bauru-e-marilia/autos-e-pecas/carros-vans-e-utilitarios/honda-crv-lx-902990732\n",
            "Preço:  50000.0\n",
            "Oferta:  40000.0\n",
            "------\n",
            "Honda CRV LX 50000.0\n",
            "Link:  https://sp.olx.com.br/regiao-de-bauru-e-marilia/autos-e-pecas/motos/moto-honda-falcon-902797445\n",
            "Preço:  10800.0\n",
            "Oferta:  8640.0\n",
            "------\n",
            "Moto Honda Falcon 10800.0\n",
            "Link:  https://sp.olx.com.br/regiao-de-bauru-e-marilia/autos-e-pecas/carros-vans-e-utilitarios/honda-civic-exl-2017-903835559\n",
            "Preço:  97000.0\n",
            "Oferta:  77600.0\n",
            "------\n",
            "HONDA CIVIC EXL 2017 97000.0\n",
            "Link:  https://sp.olx.com.br/regiao-de-bauru-e-marilia/autos-e-pecas/motos/honda-nx4-falcon-2008-903883209\n",
            "Preço:  13400.0\n",
            "Oferta:  10720.0\n",
            "------\n",
            "Honda NX4 Falcon 2008  13400.0\n",
            "Link:  https://sp.olx.com.br/regiao-de-bauru-e-marilia/autos-e-pecas/carros-vans-e-utilitarios/honda-fit-ex-1-5-903883616\n",
            "Preço:  76900.0\n",
            "Oferta:  61520.0\n",
            "------\n",
            "Honda Fit EX 1.5 76900.0\n",
            "Link:  https://sp.olx.com.br/regiao-de-bauru-e-marilia/autos-e-pecas/pecas-e-acessorios/motos/bloco-original-honda-160-903580953\n",
            "Preço:  50.0\n",
            "Oferta:  40.0\n",
            "------\n",
            "Bloco original Honda 160  50.0\n",
            "Link:  https://sp.olx.com.br/regiao-de-bauru-e-marilia/autos-e-pecas/pecas-e-acessorios/motos/susuki-honda-yamaha-shadow-903488586\n",
            "Preço:  300.0\n",
            "Oferta:  240.0\n",
            "------\n",
            "Susuki honda yamaha shadow 300.0\n",
            "Link:  https://sp.olx.com.br/regiao-de-bauru-e-marilia/autos-e-pecas/motos/honda-cb-twister-2017-903422247\n",
            "Preço:  14900.0\n",
            "Oferta:  11920.0\n",
            "------\n",
            "Honda cb Twister 2017  14900.0\n",
            "Link:  https://sp.olx.com.br/regiao-de-bauru-e-marilia/autos-e-pecas/motos/honda-xre-300-p-903299041\n",
            "Preço:  20490.0\n",
            "Oferta:  16392.0\n",
            "------\n",
            "Honda Xre 300 P 20490.0\n"
          ],
          "name": "stdout"
        }
      ]
    },
    {
      "cell_type": "code",
      "metadata": {
        "colab": {
          "base_uri": "https://localhost:8080/"
        },
        "id": "VgLzSr8uXLSS",
        "outputId": "761837a3-2aac-4e73-f6e8-b8d84201206d"
      },
      "source": [
        "print(linkItem)"
      ],
      "id": "VgLzSr8uXLSS",
      "execution_count": 9,
      "outputs": [
        {
          "output_type": "stream",
          "text": [
            "https://sp.olx.com.br/regiao-de-bauru-e-marilia/autos-e-pecas/motos/honda-xre-300-p-903299041\n"
          ],
          "name": "stdout"
        }
      ]
    },
    {
      "cell_type": "markdown",
      "metadata": {
        "id": "776c70ca"
      },
      "source": [
        "# Utilizar o Selenium para navegar automaticamente pelo site"
      ],
      "id": "776c70ca"
    },
    {
      "cell_type": "code",
      "metadata": {
        "id": "1b2fb16a"
      },
      "source": [
        "#!pip install selenium\n",
        "from selenium import webdriver\n",
        "from selenium.webdriver.common.keys import Keys\n",
        "from selenium.webdriver.common.by import By\n",
        "import time"
      ],
      "id": "1b2fb16a",
      "execution_count": null,
      "outputs": []
    },
    {
      "cell_type": "code",
      "metadata": {
        "id": "274d912a"
      },
      "source": [
        "# Necessário instalar um pacote/driver do sistema operacional\n",
        "# $ sudo apt install firefox-geckodriver\n",
        "\n",
        "# Inicializar o driver do Firefox:\n",
        "browser = webdriver.Firefox()\n",
        "\n",
        "# Abrir site de login:\n",
        "browser.get(\"https://conta.olx.com.br/acesso/\")\n",
        "\n",
        "# fazer login - Utilizamos o inspect para descobrir o type dos campos que precisam ser preenchidos\n",
        "username = browser.find_element_by_xpath(\"//input[@type='email']\")\n",
        "password = browser.find_element_by_xpath(\"//input[@type='password']\")\n",
        "\n",
        "username.send_keys(\"usuario\")\n",
        "password.send_keys(\"senha\")\n",
        "\n",
        "# Localizar o botão de submit e clicar no botão para realizar o login\n",
        "browser.find_element_by_xpath(\"//button[@type='text']\").click()\n",
        "\n",
        "# Aguardar alguns segundos para realizar o login com sucesso\n",
        "time.sleep(5)\n",
        "\n",
        "# Abrir link da nova pagina apos fazer login\n",
        "browser.get(linkItem)\n",
        "\n",
        "# Clicar no botao Chat\n",
        "#<span color=\"white\" data-testid=\"largeFloatButton-title\" font-weight=\"400\" class=\"sc-ifAKCX eUXUWN\">Chat</span>\n",
        "browser.find_element_by_xpath(\"//span[@data-testid='largeFloatButton-title']\").click()\n",
        "time.sleep(5)\n",
        "\n",
        "\n",
        "# inserir mensagem no campo do Chat:\n",
        "#<textarea placeholder=\"Digite uma mensagem...\" class=\"sc-hycgNl gACIxP sc-chAAoq fEgJLD\" style=\"height: 47px;\"></textarea>\n",
        "chat = browser.find_element_by_xpath(\"//textarea[@placeholder='Digite uma mensagem...']\")\n",
        "chat.send_keys(\"Aceita troca?\" + Keys.ENTER)\n",
        "\n",
        "# Fecha o navegador\n",
        "browser.quit()"
      ],
      "id": "274d912a",
      "execution_count": null,
      "outputs": []
    },
    {
      "cell_type": "code",
      "metadata": {
        "id": "26b7e947"
      },
      "source": [
        ""
      ],
      "id": "26b7e947",
      "execution_count": null,
      "outputs": []
    },
    {
      "cell_type": "code",
      "metadata": {
        "id": "25f469e0"
      },
      "source": [
        ""
      ],
      "id": "25f469e0",
      "execution_count": null,
      "outputs": []
    }
  ]
}