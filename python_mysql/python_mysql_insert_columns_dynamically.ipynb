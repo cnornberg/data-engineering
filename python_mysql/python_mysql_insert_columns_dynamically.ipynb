{
 "cells": [
  {
   "cell_type": "markdown",
   "id": "406361d5",
   "metadata": {},
   "source": [
    "# Problem Description:\n",
    "\n",
    "* Need to save data into a Relationa Database.\n",
    "* The problem was that data does not have same columns for all sources. \n",
    "* Originally the data was coming as a JSON file, and was imported as a Pandas Dataframe.\n",
    "* To simulate this problem I will be using different csv files where data was generated to keep original data confidentialy.\n",
    "* All data columns are strings\n",
    "\n",
    "\n",
    "\n",
    "\n",
    "# Solution:\n",
    "\n",
    "\n",
    "* Create a function that will generate dynamically an INSERT query according to columns readed from the input file.\n",
    "\n"
   ]
  },
  {
   "cell_type": "code",
   "execution_count": 1,
   "id": "876175a9",
   "metadata": {},
   "outputs": [],
   "source": [
    "import pandas as pd\n",
    "import numpy as np\n",
    "import json\n",
    "import os\n",
    "\n",
    "import mysql.connector\n",
    "from mysql.connector import Error"
   ]
  },
  {
   "cell_type": "code",
   "execution_count": 2,
   "id": "3f5ffc01",
   "metadata": {},
   "outputs": [],
   "source": [
    "# Get  login and password from environment variables\n",
    "USER = os.getenv('MYSQL_USER')\n",
    "PASSWORD = os.getenv('MYSQL_PASSWORD')\n"
   ]
  },
  {
   "cell_type": "code",
   "execution_count": 6,
   "id": "873dcb6c",
   "metadata": {},
   "outputs": [
    {
     "data": {
      "text/html": [
       "<div>\n",
       "<style scoped>\n",
       "    .dataframe tbody tr th:only-of-type {\n",
       "        vertical-align: middle;\n",
       "    }\n",
       "\n",
       "    .dataframe tbody tr th {\n",
       "        vertical-align: top;\n",
       "    }\n",
       "\n",
       "    .dataframe thead th {\n",
       "        text-align: right;\n",
       "    }\n",
       "</style>\n",
       "<table border=\"1\" class=\"dataframe\">\n",
       "  <thead>\n",
       "    <tr style=\"text-align: right;\">\n",
       "      <th></th>\n",
       "      <th>col_t</th>\n",
       "      <th>col_p</th>\n",
       "      <th>col_1</th>\n",
       "      <th>col_2</th>\n",
       "      <th>col_3</th>\n",
       "      <th>col_4</th>\n",
       "      <th>col_7</th>\n",
       "      <th>col_11</th>\n",
       "    </tr>\n",
       "  </thead>\n",
       "  <tbody>\n",
       "    <tr>\n",
       "      <th>0</th>\n",
       "      <td>0430</td>\n",
       "      <td>F2C30DC8000</td>\n",
       "      <td>00000000001</td>\n",
       "      <td>100010004305</td>\n",
       "      <td>004300</td>\n",
       "      <td>034552240</td>\n",
       "      <td>0435463</td>\n",
       "      <td>40Y4025</td>\n",
       "    </tr>\n",
       "  </tbody>\n",
       "</table>\n",
       "</div>"
      ],
      "text/plain": [
       "  col_t        col_p        col_1         col_2   col_3      col_4    col_7  \\\n",
       "0  0430  F2C30DC8000  00000000001  100010004305  004300  034552240  0435463   \n",
       "\n",
       "    col_11  \n",
       "0  40Y4025  "
      ]
     },
     "execution_count": 6,
     "metadata": {},
     "output_type": "execute_result"
    }
   ],
   "source": [
    "df1 = pd.read_csv(\"./file1.csv\", dtype=str)\n",
    "\n",
    "# Some databases do not allow integer as column names.\n",
    "# Add \"col_\" prefix to columns\n",
    "df1 = df1.add_prefix(\"col_\") \n",
    "df1.head()"
   ]
  },
  {
   "cell_type": "code",
   "execution_count": 7,
   "id": "1ff65f82",
   "metadata": {},
   "outputs": [
    {
     "data": {
      "text/html": [
       "<div>\n",
       "<style scoped>\n",
       "    .dataframe tbody tr th:only-of-type {\n",
       "        vertical-align: middle;\n",
       "    }\n",
       "\n",
       "    .dataframe tbody tr th {\n",
       "        vertical-align: top;\n",
       "    }\n",
       "\n",
       "    .dataframe thead th {\n",
       "        text-align: right;\n",
       "    }\n",
       "</style>\n",
       "<table border=\"1\" class=\"dataframe\">\n",
       "  <thead>\n",
       "    <tr style=\"text-align: right;\">\n",
       "      <th></th>\n",
       "      <th>col_t</th>\n",
       "      <th>col_p</th>\n",
       "      <th>col_1</th>\n",
       "      <th>col_2</th>\n",
       "      <th>col_3</th>\n",
       "      <th>col_5</th>\n",
       "      <th>col_9</th>\n",
       "      <th>col_11</th>\n",
       "      <th>col_13</th>\n",
       "    </tr>\n",
       "  </thead>\n",
       "  <tbody>\n",
       "    <tr>\n",
       "      <th>0</th>\n",
       "      <td>0532</td>\n",
       "      <td>F2140345239000</td>\n",
       "      <td>000000002</td>\n",
       "      <td>311000000350</td>\n",
       "      <td>0004200</td>\n",
       "      <td>00065312932</td>\n",
       "      <td>0009333222</td>\n",
       "      <td>459Y03346</td>\n",
       "      <td>97TR0246235</td>\n",
       "    </tr>\n",
       "  </tbody>\n",
       "</table>\n",
       "</div>"
      ],
      "text/plain": [
       "  col_t           col_p      col_1         col_2    col_3        col_5  \\\n",
       "0  0532  F2140345239000  000000002  311000000350  0004200  00065312932   \n",
       "\n",
       "        col_9     col_11       col_13  \n",
       "0  0009333222  459Y03346  97TR0246235  "
      ]
     },
     "execution_count": 7,
     "metadata": {},
     "output_type": "execute_result"
    }
   ],
   "source": [
    "df2 = pd.read_csv(\"./file2.csv\", dtype=str)\n",
    "df2 = df2.add_prefix(\"col_\") \n",
    "df2.head()"
   ]
  },
  {
   "cell_type": "code",
   "execution_count": 8,
   "id": "396d46e1",
   "metadata": {},
   "outputs": [
    {
     "data": {
      "text/html": [
       "<div>\n",
       "<style scoped>\n",
       "    .dataframe tbody tr th:only-of-type {\n",
       "        vertical-align: middle;\n",
       "    }\n",
       "\n",
       "    .dataframe tbody tr th {\n",
       "        vertical-align: top;\n",
       "    }\n",
       "\n",
       "    .dataframe thead th {\n",
       "        text-align: right;\n",
       "    }\n",
       "</style>\n",
       "<table border=\"1\" class=\"dataframe\">\n",
       "  <thead>\n",
       "    <tr style=\"text-align: right;\">\n",
       "      <th></th>\n",
       "      <th>col_t</th>\n",
       "      <th>col_p</th>\n",
       "      <th>col_1</th>\n",
       "      <th>col_2</th>\n",
       "      <th>col_4</th>\n",
       "      <th>col_5</th>\n",
       "      <th>col_8</th>\n",
       "      <th>col_13</th>\n",
       "      <th>col_14</th>\n",
       "      <th>col_15</th>\n",
       "    </tr>\n",
       "  </thead>\n",
       "  <tbody>\n",
       "    <tr>\n",
       "      <th>0</th>\n",
       "      <td>02364</td>\n",
       "      <td>FC0999000000</td>\n",
       "      <td>00000001</td>\n",
       "      <td>300001000033</td>\n",
       "      <td>000052000</td>\n",
       "      <td>0000000042313</td>\n",
       "      <td>942222400</td>\n",
       "      <td>7320000</td>\n",
       "      <td>R2942X9234</td>\n",
       "      <td>G2460S25XVC</td>\n",
       "    </tr>\n",
       "  </tbody>\n",
       "</table>\n",
       "</div>"
      ],
      "text/plain": [
       "   col_t         col_p     col_1         col_2      col_4          col_5  \\\n",
       "0  02364  FC0999000000  00000001  300001000033  000052000  0000000042313   \n",
       "\n",
       "       col_8   col_13      col_14       col_15  \n",
       "0  942222400  7320000  R2942X9234  G2460S25XVC  "
      ]
     },
     "execution_count": 8,
     "metadata": {},
     "output_type": "execute_result"
    }
   ],
   "source": [
    "df3 = pd.read_csv(\"./file3.csv\", dtype=str)\n",
    "df3 = df3.add_prefix(\"col_\") \n",
    "df3.head()"
   ]
  },
  {
   "cell_type": "markdown",
   "id": "ed52e9cd",
   "metadata": {},
   "source": [
    "## Functions:"
   ]
  },
  {
   "cell_type": "code",
   "execution_count": 4,
   "id": "b55d70ff",
   "metadata": {},
   "outputs": [],
   "source": [
    "# Function to connect to MySQL and Insert Data:\n",
    "def database_insert(insert_query, vals):\n",
    "    try:\n",
    "        connection = mysql.connector.connect(host='localhost',\n",
    "                                         database='testedb',\n",
    "                                         user=USER,\n",
    "                                         password=PASSWORD)\n",
    "    \n",
    "        cursor = connection.cursor()\n",
    "        result = cursor.execute(insert_query, vals)\n",
    "        connection.commit()\n",
    "        print(\"Inserted successfully \")\n",
    "\n",
    "    except mysql.connector.Error as error:\n",
    "        print(\"Failed to insert in MySQL: {}\".format(error))\n",
    "    finally:\n",
    "        if connection.is_connected():\n",
    "            cursor.close()\n",
    "            connection.close()\n",
    "            print(\"MySQL connection is closed\")\n",
    "\n",
    "# Function to read CSV files and return the \"Insert Query\" used to insert data to MySQL\n",
    "def processa_arquivo(filename):\n",
    "    df = pd.read_csv(filename, dtype=str)\n",
    "    df = df.add_prefix(\"col_\")\n",
    "    \n",
    "    # Create a list of columns that will be used on insert\n",
    "    colunas, valores = df.columns, df.values\n",
    "    cols = cols = colunas.tolist()\n",
    "    vals = valores[0].tolist()\n",
    "    \n",
    "    # Generate query to insert into columns dynamically according to columns from input file.\n",
    "    query_placeholders = ', '.join(['%s'] * len(vals))\n",
    "    query_columns = ', '.join(cols)\n",
    "    insert_query = ''' INSERT INTO OPERADORAS (%s) VALUES (%s) ''' %(query_columns, query_placeholders)\n",
    "    \n",
    "    # Perform insert into database\n",
    "    database_insert(insert_query, vals)\n",
    "\n",
    "# Function to perform Select on MySQL to validate data:\n",
    "def consulta_db():\n",
    "    try:\n",
    "        connection = mysql.connector.connect(host='localhost',\n",
    "                                             database='testedb',\n",
    "                                             user=USER,\n",
    "                                             password=PASSWORD)\n",
    "\n",
    "        cursor = connection.cursor()\n",
    "        select_query = \"SELECT * FROM OPERADORAS\"\n",
    "        result = cursor.execute(select_query)\n",
    "        resultado = cursor.fetchall()\n",
    "\n",
    "    except mysql.connector.Error as error:\n",
    "        print(\"Failed to insert in MySQL: {}\".format(error))\n",
    "    finally:\n",
    "        if connection.is_connected():\n",
    "            cursor.close()\n",
    "            connection.close()\n",
    "            #print(\"MySQL connection is closed\")\n",
    "    return(resultado)\n"
   ]
  },
  {
   "cell_type": "markdown",
   "id": "43ffab02",
   "metadata": {},
   "source": [
    "## Create Table - MySQL Database"
   ]
  },
  {
   "cell_type": "code",
   "execution_count": 5,
   "id": "36d38309",
   "metadata": {},
   "outputs": [
    {
     "name": "stdout",
     "output_type": "stream",
     "text": [
      "Table created successfully \n",
      "MySQL connection is closed\n"
     ]
    }
   ],
   "source": [
    "# Create table at MySQL Database\n",
    "try:\n",
    "    connection = mysql.connector.connect(host='localhost',\n",
    "                                         database='testedb',\n",
    "                                         user=USER,\n",
    "                                         password=PASSWORD)\n",
    "    \n",
    "    #mySql_Drop_Table_Query = \"\"\"DROP TABLE OPERADORAS\"\"\"\n",
    "    mySql_Create_Table_Query = \"\"\"CREATE TABLE OPERADORAS ( \n",
    "                             Id int(11) NOT NULL AUTO_INCREMENT,\n",
    "                             col_t varchar(250),\n",
    "                             col_p varchar(250),\n",
    "                             col_1 varchar(250),\n",
    "                             col_2 varchar(250),\n",
    "                             col_3 varchar(250),\n",
    "                             col_4 varchar(250),\n",
    "                             col_5 varchar(250),\n",
    "                             col_6 varchar(250),\n",
    "                             col_7 varchar(250),\n",
    "                             col_8 varchar(250),\n",
    "                             col_9 varchar(250),\n",
    "                             col_10 varchar(250),\n",
    "                             col_11 varchar(250),\n",
    "                             col_12 varchar(250),\n",
    "                             col_13 varchar(250),\n",
    "                             col_14 varchar(250),\n",
    "                             col_15 varchar(250),\n",
    "                             col_16 varchar(250),\n",
    "                             col_17 varchar(250),\n",
    "                             col_18 varchar(250),\n",
    "                             col_19 varchar(250),\n",
    "                             col_20 varchar(250),\n",
    "                             col_21 varchar(250),\n",
    "                             col_22 varchar(250),\n",
    "                             col_32 varchar(250),\n",
    "                             col_39 varchar(250),\n",
    "                             col_41 varchar(250),\n",
    "                             col_42 varchar(250),\n",
    "                             col_49 varchar(250),\n",
    "                             col_127 varchar(250),\n",
    "                             col_operadora varchar(250),\n",
    "                             PRIMARY KEY (Id)) \"\"\"\n",
    "                             \n",
    "    cursor = connection.cursor()\n",
    "    #result = cursor.execute(mySql_Drop_Table_Query)\n",
    "    result = cursor.execute(mySql_Create_Table_Query)\n",
    "    print(\"Table created successfully \")\n",
    "\n",
    "except mysql.connector.Error as error:\n",
    "    print(\"Failed to create table in MySQL: {}\".format(error))\n",
    "finally:\n",
    "    if connection.is_connected():\n",
    "        cursor.close()\n",
    "        connection.close()\n",
    "        print(\"MySQL connection is closed\")"
   ]
  },
  {
   "cell_type": "markdown",
   "id": "cf231185",
   "metadata": {},
   "source": [
    "## Processing File:"
   ]
  },
  {
   "cell_type": "code",
   "execution_count": 9,
   "id": "24c67a60",
   "metadata": {},
   "outputs": [
    {
     "name": "stdout",
     "output_type": "stream",
     "text": [
      "Inserted successfully \n",
      "MySQL connection is closed\n"
     ]
    }
   ],
   "source": [
    "# Process file and insert into database\n",
    "processa_arquivo('./file1.csv')\n",
    "#print(insert)"
   ]
  },
  {
   "cell_type": "markdown",
   "id": "a611af22",
   "metadata": {},
   "source": [
    "## Check if data was inserted at Database"
   ]
  },
  {
   "cell_type": "code",
   "execution_count": 10,
   "id": "1562bce5",
   "metadata": {},
   "outputs": [
    {
     "name": "stdout",
     "output_type": "stream",
     "text": [
      "(1, '0430', 'F2C30DC8000', '00000000001', '100010004305', '004300', '034552240', None, None, '0435463', None, None, None, '40Y4025', None, None, None, None, None, None, None, None, None, None, None, None, None, None, None, None, None, None)\n"
     ]
    }
   ],
   "source": [
    "# Query Database\n",
    "resultado = consulta_db()\n",
    "\n",
    "for res in resultado:\n",
    "    print(res)"
   ]
  },
  {
   "cell_type": "markdown",
   "id": "321e9fe2",
   "metadata": {},
   "source": [
    "## Processing other files:"
   ]
  },
  {
   "cell_type": "code",
   "execution_count": 12,
   "id": "5a557c0b",
   "metadata": {},
   "outputs": [
    {
     "name": "stdout",
     "output_type": "stream",
     "text": [
      "Inserted successfully \n",
      "MySQL connection is closed\n",
      "Inserted successfully \n",
      "MySQL connection is closed\n"
     ]
    }
   ],
   "source": [
    "# Process file and insert into database\n",
    "processa_arquivo('./file2.csv')\n",
    "processa_arquivo('./file3.csv')\n"
   ]
  },
  {
   "cell_type": "code",
   "execution_count": null,
   "id": "c9456b13",
   "metadata": {},
   "outputs": [],
   "source": []
  },
  {
   "cell_type": "markdown",
   "id": "5fb7ce24",
   "metadata": {},
   "source": [
    "## Check if data was inserted at Database"
   ]
  },
  {
   "cell_type": "code",
   "execution_count": 15,
   "id": "a007696d",
   "metadata": {},
   "outputs": [
    {
     "name": "stdout",
     "output_type": "stream",
     "text": [
      "(1, '0430', 'F2C30DC8000', '00000000001', '100010004305', '004300', '034552240', None, None, '0435463', None, None, None, '40Y4025', None, None, None, None, None, None, None, None, None, None, None, None, None, None, None, None, None, None)\n",
      "(2, '0532', 'F2140345239000', '000000002', '311000000350', '0004200', None, '00065312932', None, None, None, '0009333222', None, '459Y03346', None, '97TR0246235', None, None, None, None, None, None, None, None, None, None, None, None, None, None, None, None)\n",
      "(3, '02364', 'FC0999000000', '00000001', '300001000033', None, '000052000', '0000000042313', None, None, '942222400', None, None, None, None, '7320000', 'R2942X9234', 'G2460S25XVC', None, None, None, None, None, None, None, None, None, None, None, None, None, None)\n"
     ]
    }
   ],
   "source": [
    "# Query Database\n",
    "resultado = consulta_db()\n",
    "\n",
    "for res in resultado:\n",
    "    print(res)"
   ]
  },
  {
   "cell_type": "code",
   "execution_count": null,
   "id": "908e437c",
   "metadata": {},
   "outputs": [],
   "source": []
  }
 ],
 "metadata": {
  "kernelspec": {
   "display_name": "Python 3",
   "language": "python",
   "name": "python3"
  },
  "language_info": {
   "codemirror_mode": {
    "name": "ipython",
    "version": 3
   },
   "file_extension": ".py",
   "mimetype": "text/x-python",
   "name": "python",
   "nbconvert_exporter": "python",
   "pygments_lexer": "ipython3",
   "version": "3.9.1"
  }
 },
 "nbformat": 4,
 "nbformat_minor": 5
}
